{
 "cells": [
  {
   "cell_type": "code",
   "execution_count": 1,
   "id": "e1a962ba",
   "metadata": {},
   "outputs": [],
   "source": [
    "#int - whole number\n",
    "#float - decimal number\n",
    "#string - in \"\" or ''\n",
    "#boolean - True or False (must start with capital) should turn green when entered (True = 1, False = 0 so True + True = 2) or will give True of single True, and will prioritise False\n",
    "#to check type use function - type()\n",
    "#int and floats can be added together, strings added together will be eg \"2\" + \"2\" = 22 or \"a\" * 5 = aaaaa\n",
    "\n",
    "#tuple - a=(1,2,3,4,5) \n",
    "#- need to use indexing a[index] for example to print 2 = print(a[1]) or print(a[-5])\n",
    "# - or slicing - a[start index:end index] ([start point:end point +1]) or don't specify start value will start from 0 or don't specify the end will print to the end\n",
    "# - to print every other - a[0:4:2] last figure states how many to skip\n",
    "# tuples can be nested eg a=(1,2,(4,5,(9,8,7),7),4,5,6,7,8,9) so to get 8 from centre a[2][3]\n",
    "#list - a[1,2,3,4,5] - all above apply to a list but with a list you can change a value e.g a=[1,2,3] , a[2]=5 - when you print a it will now be 1,2,5\n",
    "#use list unless you need data to be fixed if you need it to be fast use numPy array which works the same as a list\n",
    "#dictionary - define indexes in a list/ tuple e.g student{key:value, Key:value, Key:value} so student{\"name\":0, \"Grade\":1, \"Age\":2} then you can print(student[\"name\"])\n",
    "\n",
    "#use Stack overflow in Google for help \n",
    "#practice above"
   ]
  },
  {
   "cell_type": "code",
   "execution_count": 2,
   "id": "41612cdd",
   "metadata": {},
   "outputs": [],
   "source": []
  },
  {
   "cell_type": "code",
   "execution_count": null,
   "id": "d91e2d84",
   "metadata": {},
   "outputs": [],
   "source": []
  }
 ],
 "metadata": {
  "kernelspec": {
   "display_name": "Python 3 (ipykernel)",
   "language": "python",
   "name": "python3"
  },
  "language_info": {
   "codemirror_mode": {
    "name": "ipython",
    "version": 3
   },
   "file_extension": ".py",
   "mimetype": "text/x-python",
   "name": "python",
   "nbconvert_exporter": "python",
   "pygments_lexer": "ipython3",
   "version": "3.9.7"
  }
 },
 "nbformat": 4,
 "nbformat_minor": 5
}
