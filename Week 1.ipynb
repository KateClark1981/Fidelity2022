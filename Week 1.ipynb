{
 "cells": [
  {
   "cell_type": "code",
   "execution_count": null,
   "id": "57b53db3",
   "metadata": {},
   "outputs": [],
   "source": []
  },
  {
   "cell_type": "code",
   "execution_count": 13,
   "id": "b2a54e6c",
   "metadata": {},
   "outputs": [],
   "source": [
    "Variable=Value\n",
    "Functions\n",
    "\n",
    "#Use \"\" around text\n",
    "#Values are numbers or letter and number combinations\n",
    "#Functions show in green eg print"
   ]
  },
  {
   "cell_type": "code",
   "execution_count": 2,
   "id": "e376c174",
   "metadata": {},
   "outputs": [],
   "source": [
    "a=1"
   ]
  },
  {
   "cell_type": "code",
   "execution_count": 3,
   "id": "65d523b4",
   "metadata": {},
   "outputs": [],
   "source": [
    "b=22"
   ]
  },
  {
   "cell_type": "code",
   "execution_count": 4,
   "id": "45515987",
   "metadata": {},
   "outputs": [
    {
     "data": {
      "text/plain": [
       "22"
      ]
     },
     "execution_count": 4,
     "metadata": {},
     "output_type": "execute_result"
    }
   ],
   "source": [
    "b"
   ]
  },
  {
   "cell_type": "code",
   "execution_count": 6,
   "id": "f0055724",
   "metadata": {},
   "outputs": [
    {
     "data": {
      "text/plain": [
       "'hello'"
      ]
     },
     "execution_count": 6,
     "metadata": {},
     "output_type": "execute_result"
    }
   ],
   "source": [
    "\"hello\""
   ]
  },
  {
   "cell_type": "code",
   "execution_count": 16,
   "id": "9ea804d5",
   "metadata": {},
   "outputs": [
    {
     "data": {
      "text/plain": [
       "'hello'"
      ]
     },
     "execution_count": 16,
     "metadata": {},
     "output_type": "execute_result"
    }
   ],
   "source": [
    "a3=\"hello\"\n",
    "a3"
   ]
  },
  {
   "cell_type": "code",
   "execution_count": 17,
   "id": "903af6dd",
   "metadata": {},
   "outputs": [
    {
     "name": "stdout",
     "output_type": "stream",
     "text": [
      "hello\n"
     ]
    }
   ],
   "source": [
    "print (a3)"
   ]
  },
  {
   "cell_type": "code",
   "execution_count": 18,
   "id": "a5dd25d5",
   "metadata": {},
   "outputs": [
    {
     "name": "stdout",
     "output_type": "stream",
     "text": [
      "22\n"
     ]
    }
   ],
   "source": [
    "print (b)\n"
   ]
  },
  {
   "cell_type": "code",
   "execution_count": 19,
   "id": "fce765db",
   "metadata": {},
   "outputs": [
    {
     "name": "stdout",
     "output_type": "stream",
     "text": [
      "17\n"
     ]
    }
   ],
   "source": [
    "print (7 + 10)"
   ]
  },
  {
   "cell_type": "code",
   "execution_count": 22,
   "id": "dabbeac2",
   "metadata": {},
   "outputs": [
    {
     "data": {
      "text/plain": [
       "'I Am Not Well'"
      ]
     },
     "execution_count": 22,
     "metadata": {},
     "output_type": "execute_result"
    }
   ],
   "source": [
    "c=\"I AM NoT weLL\"\n",
    "\n",
    "c.title()"
   ]
  },
  {
   "cell_type": "code",
   "execution_count": 23,
   "id": "f37bb177",
   "metadata": {},
   "outputs": [],
   "source": [
    "#Task for week 1\n",
    "a=2\n",
    "b=3"
   ]
  },
  {
   "cell_type": "code",
   "execution_count": 24,
   "id": "9ca61760",
   "metadata": {},
   "outputs": [
    {
     "name": "stdout",
     "output_type": "stream",
     "text": [
      "5\n"
     ]
    }
   ],
   "source": [
    "add=a+b\n",
    "print(add)"
   ]
  },
  {
   "cell_type": "code",
   "execution_count": 25,
   "id": "92dbc770",
   "metadata": {},
   "outputs": [],
   "source": [
    "#do this for - * / ** // %"
   ]
  },
  {
   "cell_type": "code",
   "execution_count": 2,
   "id": "31879c09",
   "metadata": {},
   "outputs": [
    {
     "name": "stdout",
     "output_type": "stream",
     "text": [
      "-2\n"
     ]
    }
   ],
   "source": [
    "c=2\n",
    "d=4\n",
    "minus=c-d\n",
    "print(minus)"
   ]
  },
  {
   "cell_type": "code",
   "execution_count": 3,
   "id": "805f3b75",
   "metadata": {},
   "outputs": [
    {
     "name": "stdout",
     "output_type": "stream",
     "text": [
      "8\n"
     ]
    }
   ],
   "source": [
    "multiply=c*d\n",
    "print(multiply)"
   ]
  },
  {
   "cell_type": "code",
   "execution_count": 4,
   "id": "49a577eb",
   "metadata": {},
   "outputs": [
    {
     "name": "stdout",
     "output_type": "stream",
     "text": [
      "0.5\n"
     ]
    }
   ],
   "source": [
    "divide=c/d\n",
    "print(divide)"
   ]
  },
  {
   "cell_type": "code",
   "execution_count": 10,
   "id": "32706e96",
   "metadata": {},
   "outputs": [
    {
     "name": "stdout",
     "output_type": "stream",
     "text": [
      "16\n"
     ]
    }
   ],
   "source": [
    "Exponent=c**d\n",
    "print(Exponent)"
   ]
  },
  {
   "cell_type": "code",
   "execution_count": 12,
   "id": "bf4d3dc7",
   "metadata": {},
   "outputs": [
    {
     "name": "stdout",
     "output_type": "stream",
     "text": [
      "0\n"
     ]
    }
   ],
   "source": [
    "floor_division=c//d\n",
    "print(floor_division)"
   ]
  },
  {
   "cell_type": "code",
   "execution_count": 13,
   "id": "aeaf1897",
   "metadata": {},
   "outputs": [
    {
     "name": "stdout",
     "output_type": "stream",
     "text": [
      "2\n"
     ]
    }
   ],
   "source": [
    "modulus=c%d\n",
    "print(modulus)\n"
   ]
  },
  {
   "cell_type": "code",
   "execution_count": null,
   "id": "a4b10588",
   "metadata": {},
   "outputs": [],
   "source": []
  }
 ],
 "metadata": {
  "kernelspec": {
   "display_name": "Python 3 (ipykernel)",
   "language": "python",
   "name": "python3"
  },
  "language_info": {
   "codemirror_mode": {
    "name": "ipython",
    "version": 3
   },
   "file_extension": ".py",
   "mimetype": "text/x-python",
   "name": "python",
   "nbconvert_exporter": "python",
   "pygments_lexer": "ipython3",
   "version": "3.9.7"
  }
 },
 "nbformat": 4,
 "nbformat_minor": 5
}
